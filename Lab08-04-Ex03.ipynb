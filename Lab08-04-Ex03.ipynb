{
 "cells": [
  {
   "cell_type": "markdown",
   "metadata": {
    "dotnet_interactive": {
     "language": "csharp"
    },
    "polyglot_notebook": {
     "kernelName": "csharp"
    }
   },
   "source": [
    "# Lab 8 Exercise 3\n",
    "\n",
    "## การควบคุมการเข้าถึงสมาชิกในคลาส (fields)\n"
   ]
  },
  {
   "cell_type": "markdown",
   "metadata": {},
   "source": [
    "\n",
    "1. สร้าง console application project\n",
    "\n",
    "> ```\n",
    ">     dotnet new console --name Lab08_Ex03\n",
    "> ```\n"
   ]
  },
  {
   "cell_type": "markdown",
   "metadata": {},
   "source": [
    "\n",
    "2. เปลี่ยน code ให้เป็นดังต่อไปนี้\n",
    "\n",
    "> ```csharp\n",
    ">  1. Person p = new Person();\n",
    ">  2. p.name = \"Rambo\";\n",
    ">  3. p.id = \"1987\";\n",
    ">  4. p.income = 2500;\n",
    ">  5. System.Console.WriteLine($\"Type of p is {p.GetType()}\");\n",
    ">  6. System.Console.WriteLine($\"p.name = {p.name}\\ttype = {p.name.GetType()}\");\n",
    ">  7. System.Console.WriteLine($\"p.id = {p.id}\\ttype = {p.id.GetType()}\");\n",
    ">  8. System.Console.WriteLine($\"p.income = {p.income}\\ttype = {p.income.GetType()}\");\n",
    ">  9. \n",
    "> 10. class Person\n",
    "> 11. {\n",
    "> 12.     public string? name;\n",
    "> 13.     public string? id;\n",
    "> 14.     public int income;\n",
    "> 15. }\n",
    "> ```"
   ]
  },
  {
   "cell_type": "markdown",
   "metadata": {},
   "source": [
    "\n",
    "3. Build project โดยการใช้คำสั่ง\n",
    "\n",
    "> ```\n",
    ">     dotnet build  Lab08_Ex03\n",
    "> ```\n"
   ]
  },
  {
   "cell_type": "markdown",
   "metadata": {},
   "source": [
    "\n",
    "4. บันทึกผลที่ได้จากการรันคำสั่งในข้อ 3\n"
   ]
  },
  {
   "attachments": {
    "image.png": {
     "image/png": "[encoded data removed]"
    }
   },
   "cell_type": "markdown",
   "metadata": {},
   "source": [
    "*คำตอบ* ![image.png](attachment:image.png)"
   ]
  },
  {
   "cell_type": "markdown",
   "metadata": {},
   "source": []
  },
  {
   "cell_type": "markdown",
   "metadata": {},
   "source": [
    "\n",
    "5. Run project โดยการใช้คำสั่ง\n",
    "\n",
    "> ```\n",
    ">     dotnet run --project Lab08_Ex03\n",
    "> ```\n"
   ]
  },
  {
   "cell_type": "markdown",
   "metadata": {},
   "source": [
    "\n",
    "6. บันทึกผลที่ได้จากการรันคำสั่งในข้อ 5\n"
   ]
  },
  {
   "attachments": {
    "image.png": {
     "image/png": "[encoded data removed]"
    }
   },
   "cell_type": "markdown",
   "metadata": {},
   "source": [
    "*คำตอบ*![image.png](attachment:image.png)"
   ]
  },
  {
   "cell_type": "markdown",
   "metadata": {},
   "source": []
  },
  {
   "cell_type": "markdown",
   "metadata": {},
   "source": [
    "7. นำโค้ดในข้อ 2  มารันใน code cell\n",
    "\n"
   ]
  },
  {
   "cell_type": "code",
   "execution_count": null,
   "metadata": {
    "dotnet_interactive": {
     "language": "csharp"
    },
    "polyglot_notebook": {
     "kernelName": "csharp"
    }
   },
   "outputs": [
    {
     "name": "stdout",
     "output_type": "stream",
     "text": [
      "Type of p is Submission#1+Person\n",
      "p.name = Rambo\ttype = System.String\n",
      "p.id = 1987\ttype = System.String\n",
      "p.income = 2500\ttype = System.Int32\n"
     ]
    }
   ],
   "source": [
    "\n",
    "Person p = new Person();\n",
    " p.name = \"Rambo\";\n",
    " p.id = \"1987\";\n",
    " p.income = 2500;\n",
    " System.Console.WriteLine($\"Type of p is {p.GetType()}\");\n",
    " System.Console.WriteLine($\"p.name = {p.name}\\ttype = {p.name.GetType()}\");\n",
    " System.Console.WriteLine($\"p.id = {p.id}\\ttype = {p.id.GetType()}\");\n",
    " System.Console.WriteLine($\"p.income = {p.income}\\ttype = {p.income.GetType()}\");\n",
    "   \n",
    " class Person\n",
    " {\n",
    "     public string? name;\n",
    "     public string? id;\n",
    "     public int income;\n",
    " }"
   ]
  },
  {
   "cell_type": "markdown",
   "metadata": {},
   "source": [
    "## คำถาม"
   ]
  },
  {
   "cell_type": "markdown",
   "metadata": {},
   "source": [
    "1. Access modifier ในภาษา C# คืออะไร\n"
   ]
  },
  {
   "cell_type": "markdown",
   "metadata": {},
   "source": [
    "*คำตอบ* คือคำสั่งที่ใช้กำหนดการเข้าถึงของสมาชิก (members) เช่น ฟิลด์ (fields), พร็อพเพอร์ตี้ (properties), เมธอด (methods) หรือคลาส (classes) ในโปรแกรม C# โดยการใช้ Access Modifier จะช่วยควบคุมว่าโค้ดในส่วนต่างๆ ของโปรแกรมสามารถเข้าถึงสมาชิกเหล่านั้นได้หรือไม่ และสามารถจำกัดการเข้าถึงตามระดับที่ต้องการได้"
   ]
  },
  {
   "cell_type": "markdown",
   "metadata": {},
   "source": []
  },
  {
   "cell_type": "markdown",
   "metadata": {},
   "source": [
    "2. จงอธิบายขอบเขตและการใช้งานของ Access modifier ต่อไปนี้ \n"
   ]
  },
  {
   "cell_type": "markdown",
   "metadata": {},
   "source": [
    "2.1  public\n"
   ]
  },
  {
   "cell_type": "markdown",
   "metadata": {},
   "source": [
    "*คำตอบ*\n",
    "1. public\n",
    "\n",
    "ขอบเขตการเข้าถึง (Scope):\n",
    "สามารถเข้าถึงได้จาก ทุกที่ ทั้งจากภายในคลาสเดียวกัน, คลาสอื่นใน assembly เดียวกัน, และคลาสใน assembly อื่น (ข้ามไฟล์และโปรเจกต์)\n",
    "\n",
    "การใช้งาน:\n",
    "ใช้เมื่อคุณต้องการให้สมาชิก (ฟิลด์, เมธอด, คลาส) สามารถเข้าถึงได้จากทุกที่ในโปรแกรม\n",
    "เหมาะสำหรับสมาชิกที่ต้องการให้ผู้ใช้หรือส่วนอื่นๆ ของโปรแกรมสามารถใช้ได้\n",
    "ข้อดี: ง่ายต่อการใช้และสามารถเข้าถึงได้จากทุกส่วนของโปรแกรม\n",
    "ข้อควรระวัง: ใช้ public ด้วยความระมัดระวัง เนื่องจากทำให้สมาชิกสามารถถูกแก้ไขจากที่อื่นที่ไม่ใช่คลาสนั้นๆ ทำให้ไม่สามารถควบคุมข้อมูลได้"
   ]
  },
  {
   "cell_type": "markdown",
   "metadata": {},
   "source": []
  },
  {
   "cell_type": "markdown",
   "metadata": {},
   "source": [
    "2.2 private\n"
   ]
  },
  {
   "cell_type": "markdown",
   "metadata": {},
   "source": [
    "*คำตอบ*\n",
    "\n",
    "ขอบเขตการเข้าถึง (Scope):\n",
    "สามารถเข้าถึงได้ ภายในคลาสเดียวกันเท่านั้น ที่ประกาศสมาชิกนั้นๆ\n",
    "ไม่สามารถเข้าถึงจากคลาสอื่นๆ หรือจากคลาสที่สืบทอดได้\n",
    "\n",
    "การใช้งาน:\n",
    "ใช้ private เมื่อคุณต้องการควบคุมการเข้าถึงของข้อมูลภายในคลาสนั้นๆ\n",
    "เหมาะสำหรับฟิลด์, ตัวแปร หรือเมธอดที่ไม่ต้องการให้ถูกเข้าถึงจากภายนอก เพื่อการควบคุมข้อมูล\n",
    "ข้อดี: ช่วยให้สามารถควบคุมการเข้าถึงและป้องกันไม่ให้ข้อมูลถูกเปลี่ยนแปลงจากภายนอก\n",
    "ข้อควรระวัง: การใช้ private อาจทำให้ยากในการทดสอบหรือเข้าถึงจากโค้ดภายนอก หากจำเป็นต้องทำการทดสอบหรือเข้าถึงข้อมูลภายใน"
   ]
  },
  {
   "cell_type": "markdown",
   "metadata": {},
   "source": []
  },
  {
   "cell_type": "markdown",
   "metadata": {},
   "source": [
    "2.3 protected\n"
   ]
  },
  {
   "cell_type": "markdown",
   "metadata": {},
   "source": [
    "*คำตอบ*\n",
    "\n",
    "ขอบเขตการเข้าถึง (Scope):\n",
    "สามารถเข้าถึงได้จากภายในคลาสที่ประกาศและ คลาสที่สืบทอด (derived classes) เท่านั้น\n",
    "ไม่สามารถเข้าถึงจากคลาสที่ไม่ได้สืบทอดจากคลาสนั้นๆ\n",
    "\n",
    "การใช้งาน:\n",
    "ใช้ protected เมื่อคุณต้องการให้สมาชิกสามารถเข้าถึงได้จากคลาสที่สืบทอดเท่านั้น แต่ไม่ต้องการให้เข้าถึงจากภายนอก\n",
    "เหมาะสำหรับการออกแบบในเชิงการสืบทอด (inheritance) เช่น การกำหนดให้คลาสลูกสามารถเข้าถึงข้อมูลภายในคลาสพ่อแม่ (base class)"
   ]
  },
  {
   "cell_type": "markdown",
   "metadata": {},
   "source": []
  },
  {
   "cell_type": "markdown",
   "metadata": {},
   "source": [
    "2.4 internal\n"
   ]
  },
  {
   "cell_type": "markdown",
   "metadata": {},
   "source": [
    "*คำตอบ*\n",
    "\n",
    "ขอบเขตการเข้าถึง (Scope):\n",
    "สามารถเข้าถึงได้ ภายใน assembly เดียวกัน (โปรเจกต์เดียวกัน)\n",
    "ไม่สามารถเข้าถึงได้จาก assembly อื่น (โปรเจกต์ที่ต่างกัน)\n",
    "\n",
    "การใช้งาน:\n",
    "ใช้ internal เมื่อคุณต้องการจำกัดการเข้าถึงสมาชิกให้เฉพาะภายใน assembly เดียวกัน\n",
    "เหมาะสำหรับการใช้งานในโปรเจกต์เดียวกันที่ต้องการให้สามารถเข้าถึงได้จากทุกส่วนของโปรเจกต์นั้น แต่ไม่ต้องการให้โปรเจกต์ภายนอกเข้าถึงข้อมูลเหล่านั้น"
   ]
  },
  {
   "cell_type": "markdown",
   "metadata": {},
   "source": []
  },
  {
   "cell_type": "markdown",
   "metadata": {},
   "source": [
    "2.5 protected internal"
   ]
  },
  {
   "cell_type": "markdown",
   "metadata": {},
   "source": [
    "*คำตอบ*\n",
    "\n",
    "ขอบเขตการเข้าถึง (Scope):\n",
    "สามารถเข้าถึงได้จาก:\n",
    "ภายใน assembly เดียวกัน\n",
    "คลาสที่สืบทอดจากคลาสนั้นๆ ใน assembly อื่น\n",
    "\n",
    "การใช้งาน:\n",
    "ใช้ protected internal เมื่อคุณต้องการให้สมาชิกสามารถเข้าถึงได้จากทั้ง:\n",
    "คลาสที่สืบทอด\n",
    "หรือจากโค้ดภายใน assembly เดียวกัน"
   ]
  },
  {
   "cell_type": "markdown",
   "metadata": {},
   "source": []
  },
  {
   "cell_type": "markdown",
   "metadata": {},
   "source": [
    "3. ถ้าแก้ไขโค้ดในบรรทัดที่ 14 เป็นดังต่อไปนี้  จะได้ผลการ build หรือ run เป็นอย่างไร \n",
    "```csharp\n",
    "    private int income;\n",
    "```"
   ]
  },
  {
   "cell_type": "code",
   "execution_count": null,
   "metadata": {
    "dotnet_interactive": {
     "language": "csharp"
    },
    "polyglot_notebook": {
     "kernelName": "csharp"
    }
   },
   "outputs": [
    {
     "ename": "Error",
     "evalue": "(5,4): error CS0122: 'Person.income' is inaccessible due to its protection level\r\n(9,43): error CS0122: 'Person.income' is inaccessible due to its protection level\r\n(9,62): error CS0122: 'Person.income' is inaccessible due to its protection level",
     "output_type": "error",
     "traceback": [
      "(5,4): error CS0122: 'Person.income' is inaccessible due to its protection level\r\n",
      "(9,43): error CS0122: 'Person.income' is inaccessible due to its protection level\r\n",
      "(9,62): error CS0122: 'Person.income' is inaccessible due to its protection level"
     ]
    }
   ],
   "source": [
    "\n",
    "Person p = new Person();\n",
    " p.name = \"Rambo\";\n",
    " p.id = \"1987\";\n",
    " p.income = 2500;\n",
    " System.Console.WriteLine($\"Type of p is {p.GetType()}\");\n",
    " System.Console.WriteLine($\"p.name = {p.name}\\ttype = {p.name.GetType()}\");\n",
    " System.Console.WriteLine($\"p.id = {p.id}\\ttype = {p.id.GetType()}\");\n",
    " System.Console.WriteLine($\"p.income = {p.income}\\ttype = {p.income.GetType()}\");\n",
    "   \n",
    " class Person\n",
    " {\n",
    "     public string? name;\n",
    "     public string? id;\n",
    "     private int income;\n",
    " }"
   ]
  },
  {
   "cell_type": "markdown",
   "metadata": {},
   "source": [
    "*คำตอบ*\n",
    "The build failed. Fix the build errors and run again."
   ]
  },
  {
   "cell_type": "markdown",
   "metadata": {},
   "source": []
  },
  {
   "cell_type": "markdown",
   "metadata": {},
   "source": [
    "4. ถ้าแก้ไขโค้ดในบรรทัดที่ 13 เป็นดังต่อไปนี้  จะได้ผลการ build หรือ run เป็นอย่างไร \n",
    "```csharp\n",
    "    protected string? name;\n",
    "```"
   ]
  },
  {
   "cell_type": "code",
   "execution_count": null,
   "metadata": {
    "dotnet_interactive": {
     "language": "csharp"
    },
    "polyglot_notebook": {
     "kernelName": "csharp"
    }
   },
   "outputs": [
    {
     "ename": "Error",
     "evalue": "(14,24): error CS0102: The type 'Person' already contains a definition for 'name'\r\n(4,4): error CS1061: 'Person' does not contain a definition for 'id' and no accessible extension method 'id' accepting a first argument of type 'Person' could be found (are you missing a using directive or an assembly reference?)\r\n(8,39): error CS1061: 'Person' does not contain a definition for 'id' and no accessible extension method 'id' accepting a first argument of type 'Person' could be found (are you missing a using directive or an assembly reference?)\r\n(8,54): error CS1061: 'Person' does not contain a definition for 'id' and no accessible extension method 'id' accepting a first argument of type 'Person' could be found (are you missing a using directive or an assembly reference?)",
     "output_type": "error",
     "traceback": [
      "(14,24): error CS0102: The type 'Person' already contains a definition for 'name'\r\n",
      "(4,4): error CS1061: 'Person' does not contain a definition for 'id' and no accessible extension method 'id' accepting a first argument of type 'Person' could be found (are you missing a using directive or an assembly reference?)\r\n",
      "(8,39): error CS1061: 'Person' does not contain a definition for 'id' and no accessible extension method 'id' accepting a first argument of type 'Person' could be found (are you missing a using directive or an assembly reference?)\r\n",
      "(8,54): error CS1061: 'Person' does not contain a definition for 'id' and no accessible extension method 'id' accepting a first argument of type 'Person' could be found (are you missing a using directive or an assembly reference?)"
     ]
    }
   ],
   "source": [
    "\n",
    "Person p = new Person();\n",
    " p.name = \"Rambo\";\n",
    " p.id = \"1987\";\n",
    " p.income = 2500;\n",
    " System.Console.WriteLine($\"Type of p is {p.GetType()}\");\n",
    " System.Console.WriteLine($\"p.name = {p.name}\\ttype = {p.name.GetType()}\");\n",
    " System.Console.WriteLine($\"p.id = {p.id}\\ttype = {p.id.GetType()}\");\n",
    " System.Console.WriteLine($\"p.income = {p.income}\\ttype = {p.income.GetType()}\");\n",
    "   \n",
    " class Person\n",
    " {\n",
    "     public string? name;\n",
    "     protected string? name;\n",
    "     public int income;\n",
    " }\n"
   ]
  },
  {
   "cell_type": "markdown",
   "metadata": {},
   "source": [
    "*คำตอบ*\n",
    "The build failed. Fix the build errors and run again."
   ]
  },
  {
   "cell_type": "markdown",
   "metadata": {},
   "source": []
  },
  {
   "cell_type": "markdown",
   "metadata": {},
   "source": [
    "3. เครื่องหมาย `?` ในบรรทัดที่ 13 `protected string? name;` มีความหมายว่าอย่างไร  "
   ]
  },
  {
   "cell_type": "markdown",
   "metadata": {},
   "source": [
    "*คำตอบ*\n",
    "เครื่องหมาย ? ใน protected string? name; หมายความว่าตัวแปร name เป็น nullable reference type หรือก็คือสามารถเก็บค่า null ได้"
   ]
  },
  {
   "cell_type": "markdown",
   "metadata": {},
   "source": []
  }
 ],
 "metadata": {
  "kernelspec": {
   "display_name": ".NET (C#)",
   "language": "C#",
   "name": ".net-csharp"
  },
  "polyglot_notebook": {
   "kernelInfo": {
    "defaultKernelName": "csharp",
    "items": [
     {
      "aliases": [],
      "languageName": "csharp",
      "name": "csharp"
     }
    ]
   }
  }
 },
 "nbformat": 4,
 "nbformat_minor": 2
}
