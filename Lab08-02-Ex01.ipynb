{
 "cells": [
  {
   "cell_type": "markdown",
   "metadata": {},
   "source": [
    "# Lab 8 Exercise 1 \n",
    "##  การสร้าง Class\n"
   ]
  },
  {
   "cell_type": "markdown",
   "metadata": {},
   "source": [
    "1.1 เรียก terminal (cmd) ขึ้นมา \n",
    "\n",
    "1.2 ตรวจสอบให้แน่ใจว่าอยู่ใน folder หรือ directory ที่ต้องการสร้าง project \n",
    "\n",
    "1.3 พิมพ์คำสั่งต่อไปนี้\n",
    "\n",
    "``` \n",
    "    dotnet new console --name Lab08_Ex01\n",
    "```\n",
    "\n",
    "1.4 ใช้คำสั่ง dir เพื่อตรวจสอบดูว่าโฟลเดอร์ของ project ได้ถูกสร้างขึ้นแล้วหรือยัง"
   ]
  },
  {
   "cell_type": "markdown",
   "metadata": {},
   "source": [
    "\n",
    "2. เปลี่ยน code ในไฟล์ program.cs ให้เป็นดังต่อไปนี้ (ตัวเลขข้างหน้า คือหมายเลขบรรทัด ไว้สำหรับอ้างอิง)\n",
    "\n",
    "> ```c#\n",
    "> 1.  Person p = new Person();\n",
    "> 2.  System.Console.WriteLine($\"Type of p is {p.GetType()}\");\n",
    "> 3.  \n",
    "> 4.  class Person\n",
    "> 5.  {\n",
    "> 6.  \n",
    "> 7.  }\n",
    "> ```\n"
   ]
  },
  {
   "cell_type": "markdown",
   "metadata": {},
   "source": [
    "\n",
    "3. Build project โดยการใช้คำสั่ง\n",
    "\n",
    "```\n",
    "dotnet build  Lab08_Ex01\n",
    "```\n"
   ]
  },
  {
   "cell_type": "markdown",
   "metadata": {},
   "source": [
    "\n",
    "4. บันทึกผลที่ได้จากการรันคำสั่งในข้อ 3\n"
   ]
  },
  {
   "attachments": {
    "image.png": {
     "image/png": "[encoded data removed]"
    }
   },
   "cell_type": "markdown",
   "metadata": {},
   "source": [
    "*คำตอบ*\n",
    "![image.png](attachment:image.png)"
   ]
  },
  {
   "cell_type": "markdown",
   "metadata": {},
   "source": []
  },
  {
   "cell_type": "markdown",
   "metadata": {},
   "source": [
    "\n",
    "5. Run project โดยการใช้คำสั่ง\n",
    "\n",
    "```\n",
    "dotnet run --project Lab08_Ex01\n",
    "```\n"
   ]
  },
  {
   "cell_type": "markdown",
   "metadata": {},
   "source": [
    "\n",
    "6. บันทึกผลที่ได้จากการรันคำสั่งในข้อ 5\n"
   ]
  },
  {
   "attachments": {
    "image.png": {
     "image/png": "[encoded data removed]"
    }
   },
   "cell_type": "markdown",
   "metadata": {},
   "source": [
    "*คำตอบ*![image.png](attachment:image.png)"
   ]
  },
  {
   "cell_type": "markdown",
   "metadata": {},
   "source": []
  },
  {
   "cell_type": "markdown",
   "metadata": {},
   "source": [
    "7. โค้ดต่อไปนี้สามารถรันได้ใน polyglot notebook หรือไม่ "
   ]
  },
  {
   "cell_type": "code",
   "execution_count": null,
   "metadata": {
    "dotnet_interactive": {
     "language": "csharp"
    },
    "polyglot_notebook": {
     "kernelName": "csharp"
    }
   },
   "outputs": [
    {
     "name": "stdout",
     "output_type": "stream",
     "text": [
      "Type of p is Submission#1+Person\r\n"
     ]
    }
   ],
   "source": [
    "Person p = new Person();\n",
    "System.Console.WriteLine($\"Type of p is {p.GetType()}\");\n",
    "\n",
    "class Person\n",
    "{\n",
    "\n",
    "}"
   ]
  },
  {
   "cell_type": "markdown",
   "metadata": {},
   "source": [
    "*คำตอบ* ไม่สามารถรันโค้ดได้เนื่องจาก ลำดับการประกาศคลาส (class declaration) และการใช้งานไม่ถูกต้อง ตามหลักการของ C#"
   ]
  },
  {
   "cell_type": "markdown",
   "metadata": {},
   "source": []
  },
  {
   "cell_type": "markdown",
   "metadata": {},
   "source": [
    "## คำถาม\n",
    "\n"
   ]
  },
  {
   "cell_type": "markdown",
   "metadata": {},
   "source": [
    "1. Class ในภาษา C# คืออะไร\n"
   ]
  },
  {
   "cell_type": "markdown",
   "metadata": {},
   "source": [
    "*คำตอบ* Class เป็นโครงสร้างหลักของการเขียนโปรแกรมเชิงวัตถุใน C#\n",
    "\n",
    "ใช้คลาสเพื่อสร้างออบเจ็กต์และจัดกลุ่มข้อมูลกับฟังก์ชันที่เกี่ยวข้อง"
   ]
  },
  {
   "cell_type": "markdown",
   "metadata": {},
   "source": []
  },
  {
   "cell_type": "markdown",
   "metadata": {},
   "source": [
    "2. Class มีหน้าที่อะไร\n",
    "\n"
   ]
  },
  {
   "cell_type": "markdown",
   "metadata": {},
   "source": [
    "*คำตอบ*\n",
    "Class มีหน้าที่หลักดังนี้:\n",
    "\n",
    "– เป็นโครงสร้างสำหรับสร้างวัตถุ (Object) \n",
    "\n",
    "– กำหนดคุณสมบัติ (Attributes) และพฤติกรรม (Methods)จัดโครงสร้างข้อมูล \n",
    "\n",
    "– รวมตัวแปรและฟังก์ชันที่เกี่ยวข้องไว้ด้วยกันรองรับแนวคิด OOP \n",
    "\n",
    "– ใช้ Encapsulation, Inheritance, Polymorphis ช่วยให้โค้ดเป็นระเบียบและใช้ซ้ำได้\n",
    "\n",
    "– ลดความซ้ำซ้อนและดูแลรักษาง่าย"
   ]
  },
  {
   "cell_type": "markdown",
   "metadata": {},
   "source": []
  },
  {
   "cell_type": "markdown",
   "metadata": {},
   "source": [
    "3. ทำไมเราต้องใช้ Class\n"
   ]
  },
  {
   "cell_type": "markdown",
   "metadata": {},
   "source": [
    "*คำตอบ* ใช้ Class เพื่อให้โค้ดเป็นระเบียบ ใช้ซ้ำได้ง่าย ดูแลรักษาสะดวก และรองรับการพัฒนาโปรแกรมที่ซับซ้อน"
   ]
  },
  {
   "cell_type": "markdown",
   "metadata": {},
   "source": []
  },
  {
   "cell_type": "markdown",
   "metadata": {},
   "source": [
    "4. ส่วนประกอบของ Class มีอะไรบ้าง\n"
   ]
  },
  {
   "cell_type": "markdown",
   "metadata": {},
   "source": [
    "*คำตอบ*\n",
    "ส่วนประกอบหลักของ Class:\n",
    "\n",
    "1.ชื่อคลาส (Class Name)\n",
    "\n",
    "2.ตัวแปรของคลาส (Class Variables)\n",
    "\n",
    "3.ตัวแปรของวัตถุ (Instance Variables)\n",
    "\n",
    "4.เมธอด (Methods)\n",
    "\n",
    "5.คอนสตรักเตอร์ (__init__)\n",
    "\n",
    "6.เดสตรักเตอร์ (__del__)\n",
    "\n"
   ]
  },
  {
   "cell_type": "markdown",
   "metadata": {},
   "source": []
  },
  {
   "cell_type": "markdown",
   "metadata": {},
   "source": [
    "5. Class และ Object แตกต่างกันอย่างไร\n"
   ]
  },
  {
   "cell_type": "markdown",
   "metadata": {},
   "source": [
    "*คำตอบ*\n",
    "Class: คือโครงสร้างหรือแบบแผนที่ใช้สร้าง Object\n",
    "\n",
    "Object: คือการสร้างตัวตนจาก Class ซึ่งมีข้อมูลและพฤติกรรมเฉพาะตัว"
   ]
  },
  {
   "cell_type": "markdown",
   "metadata": {},
   "source": []
  },
  {
   "cell_type": "markdown",
   "metadata": {},
   "source": [
    "6. การตั้งชื่อ Class มีหลักเกณฑ์อย่างไร"
   ]
  },
  {
   "cell_type": "markdown",
   "metadata": {},
   "source": [
    "*คำตอบ*\n",
    "\n",
    "1. ใช้รูปแบบ CamelCase\n",
    "ชื่อคลาสควรเขียนด้วย ตัวอักษรตัวใหญ่ ขึ้นต้นทุกคำและไม่ใช้ขีดล่าง (underscore)\n",
    "\n",
    "2. ตั้งชื่อให้สื่อความหมาย\n",
    "ชื่อคลาสควรบอกลักษณะหรือหน้าที่ของมัน เช่น ถ้าคลาสเกี่ยวกับรถยนต์ ชื่อ Car จะเหมาะสม\n",
    "ควรหลีกเลี่ยงการตั้งชื่อที่เป็นคำทั่วไปหรือไม่ชัดเจน เช่น Object, Thing\n",
    "\n",
    "3. ไม่ใช้ชื่อที่ซ้ำกับคำสำคัญในภาษาโปรแกรม\n",
    "หลีกเลี่ยงการใช้ชื่อที่เป็นคำสำคัญ (keywords) ของภาษาโปรแกรม เช่น class, if, while, for\n",
    "\n",
    "4. ชื่อควรเป็นเอกพจน์ (Singular)\n",
    "ชื่อคลาสควรใช้รูปเอกพจน์ เนื่องจากคลาสเป็นพิมพ์เขียวสำหรับการสร้างวัตถุเดียว\n",
    "\n",
    "\n",
    "5. ใช้ตัวอักษรภาษาอังกฤษ\n",
    "ควรใช้ตัวอักษรภาษาอังกฤษในการตั้งชื่อคลาส เพื่อให้สามารถใช้ได้ในโปรแกรมทุกภาษา\n",
    "\n",
    "6. หลีกเลี่ยงการใช้ตัวเลขและอักขระพิเศษ\n",
    "ชื่อคลาสไม่ควรเริ่มต้นด้วยตัวเลขหรือใช้เครื่องหมายพิเศษ (เช่น @, #, %)"
   ]
  },
  {
   "cell_type": "markdown",
   "metadata": {},
   "source": []
  },
  {
   "cell_type": "markdown",
   "metadata": {},
   "source": [
    "7. คำสั่ง p.GetType() คืออะไร"
   ]
  },
  {
   "cell_type": "markdown",
   "metadata": {},
   "source": [
    "*คำตอบ* p.GetType() ใช้เพื่อดึงประเภทของออบเจ็กต์ p และสามารถนำไปใช้ในการตรวจสอบประเภทของออบเจ็กต์ใน runtime หรือใช้ในการทำงานกับ Reflection ในภาษา C#."
   ]
  },
  {
   "cell_type": "markdown",
   "metadata": {},
   "source": []
  },
  {
   "cell_type": "markdown",
   "metadata": {},
   "source": [
    "8. ผลที่ได้จากคำสั่ง  p.GetType() คืออะไร มันให้ข้อมูลอะไรแก่เราบ้าง"
   ]
  },
  {
   "cell_type": "markdown",
   "metadata": {},
   "source": [
    "*คำตอบ* \n",
    "ผลที่ได้จาก p.GetType() คือข้อมูลเกี่ยวกับ ประเภท ของออบเจ็กต์ p เช่น ชื่อประเภท, namespace, คลาสฐาน, assembly และอื่น ๆ ข้อมูลเหล่านี้สามารถนำไปใช้ในการทำงานกับ Reflection หรือในการตรวจสอบข้อมูลประเภทของวัตถุในโปรแกรมได้"
   ]
  },
  {
   "cell_type": "markdown",
   "metadata": {},
   "source": []
  },
  {
   "cell_type": "markdown",
   "metadata": {},
   "source": [
    "9. ในภาษา C# การประกาศ class ไว้ก่อนหรือหลังการสร้าง  object ต่างกันหรือไม่ "
   ]
  },
  {
   "cell_type": "markdown",
   "metadata": {},
   "source": []
  },
  {
   "cell_type": "markdown",
   "metadata": {},
   "source": [
    "*คำตอบ* \n",
    "\n",
    "class ต้องประกาศ ก่อน การสร้าง object. หากคุณสร้าง object ก่อนที่คลาสจะถูกประกาศ คอมไพเลอร์จะไม่สามารถหาคลาสนั้นได้ และจะเกิดข้อผิดพลาด."
   ]
  }
 ],
 "metadata": {
  "kernelspec": {
   "display_name": ".NET (C#)",
   "language": "C#",
   "name": ".net-csharp"
  },
  "polyglot_notebook": {
   "kernelInfo": {
    "defaultKernelName": "csharp",
    "items": [
     {
      "aliases": [],
      "languageName": "csharp",
      "name": "csharp"
     }
    ]
   }
  }
 },
 "nbformat": 4,
 "nbformat_minor": 2
}
