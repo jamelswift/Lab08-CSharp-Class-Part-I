{
 "cells": [
  {
   "cell_type": "markdown",
   "metadata": {},
   "source": [
    "# Lab 8 Exercise 2\n",
    "\n",
    "## การประกาศสมาชิกในคลาส (fields)\n"
   ]
  },
  {
   "cell_type": "markdown",
   "metadata": {},
   "source": [
    "\n",
    "\n",
    "1. สร้าง console application project\n",
    "\n",
    "```\n",
    "    dotnet new console --name Lab08_Ex02\n",
    "```\n"
   ]
  },
  {
   "cell_type": "markdown",
   "metadata": {},
   "source": [
    "\n",
    "2. เปลี่ยน code ให้เป็นดังต่อไปนี้ (ตัวเลขข้างหน้า คือหมายเลขบรรทัด ไว้สำหรับอ้างอิง)\n",
    "\n",
    "> ```csharp\n",
    ">  1. Person p = new Person();\n",
    ">  2. p.name = \"Rambo\";\n",
    ">  3. p.id = \"1987\";\n",
    ">  4. p.income = 2500;\n",
    ">  5. System.Console.WriteLine($\"Type of p is {p.GetType()}\");\n",
    ">  6. System.Console.WriteLine($\"p.name = {p.name}\\ttype = {p.name.GetType()}\");\n",
    ">  7. System.Console.WriteLine($\"p.id = {p.id}\\ttype = {p.id.GetType()}\");\n",
    ">  8. System.Console.WriteLine($\"p.income = {p.income}\\ttype = {p.income.GetType()}\");\n",
    ">  9. \n",
    "> 10. class Person\n",
    "> 11. {\n",
    "> 12.     string name;\n",
    "> 13.     string id;\n",
    "> 14.     int income;\n",
    "> 15. }\n",
    "> ```\n"
   ]
  },
  {
   "cell_type": "markdown",
   "metadata": {},
   "source": [
    "\n",
    "3. Build project โดยการใช้คำสั่ง\n",
    "\n",
    "```\n",
    "    dotnet build  Lab08_Ex02\n",
    "```\n"
   ]
  },
  {
   "cell_type": "markdown",
   "metadata": {},
   "source": [
    "\n",
    "4. บันทึกผลที่ได้จากการรันคำสั่งในข้อ 3\n"
   ]
  },
  {
   "attachments": {
    "สกรีนช็อต 2025-02-01 145041.png": {
     "image/png": "[encoded data removed]"
    }
   },
   "cell_type": "markdown",
   "metadata": {},
   "source": [
    "*คำตอบ*![สกรีนช็อต 2025-02-01 145041.png](<attachment:สกรีนช็อต 2025-02-01 145041.png>)"
   ]
  },
  {
   "cell_type": "markdown",
   "metadata": {},
   "source": []
  },
  {
   "cell_type": "markdown",
   "metadata": {},
   "source": [
    "\n",
    "5. Run project โดยการใช้คำสั่ง\n",
    "\n",
    "```\n",
    "    dotnet run --project Lab08_Ex02\n",
    "```\n"
   ]
  },
  {
   "cell_type": "markdown",
   "metadata": {},
   "source": [
    "\n",
    "6. บันทึกผลที่ได้จากการรันคำสั่งในข้อ 5\n",
    "\n"
   ]
  },
  {
   "attachments": {
    "สกรีนช็อต 2025-02-01 145120.png": {
     "image/png": "[encoded data removed]"
    }
   },
   "cell_type": "markdown",
   "metadata": {},
   "source": [
    "*คำตอบ*  ![สกรีนช็อต 2025-02-01 145120.png](<attachment:สกรีนช็อต 2025-02-01 145120.png>)"
   ]
  },
  {
   "cell_type": "markdown",
   "metadata": {},
   "source": []
  },
  {
   "cell_type": "markdown",
   "metadata": {},
   "source": [
    "\n",
    "7. อธิบายสิ่งที่พบในการทดลอง\n",
    "\n"
   ]
  },
  {
   "cell_type": "markdown",
   "metadata": {},
   "source": [
    "*คำตอบ*\n",
    "Type of p is Person\n",
    " อธิบาย:\n",
    "p.GetType() คืนค่า Person เนื่องจาก p เป็นอ็อบเจ็กต์ของคลาส Person\n",
    "ดังนั้นจึงแสดงข้อความว่า \"Type of p is Person\"\n",
    "\n",
    "p.Name = Rambo  type = System.String\n",
    " อธิบาย:\n",
    "p.Name = \"Rambo\" เป็น string\n",
    "p.Name.GetType() คืนค่า \"System.String\"\n",
    "เหตุผลที่ p.Name เป็น string ตัวแปร Name ถูกกำหนดเป็น public string Name { get; set; }\n",
    "\"Rambo\" เป็น string ตามรูปแบบ \"...\"\n",
    "\n",
    "p.Id = 1987     type = System.Int32\n",
    " อธิบาย:\n",
    "p.Id = 1987 เป็น int\n",
    "p.Id.GetType() คืนค่า \"System.Int32\"\n",
    " เหตุผลที่ p.Id เป็น int เรากำหนดในคลาส Person ว่า Id เป็น int\n",
    "\n",
    "p.Income = 2500 type = System.Int32\n",
    "อธิบาย:\n",
    "\n",
    "p.Income = 2500 เป็น int\n",
    "p.Income.GetType() คืนค่า \"System.Int32\"\n",
    "เหตุผลที่ p.Income เป็น int\n",
    "Income ถูกกำหนดเป็น int ในคลาส Person"
   ]
  },
  {
   "cell_type": "markdown",
   "metadata": {},
   "source": []
  },
  {
   "cell_type": "markdown",
   "metadata": {},
   "source": [
    "8. นำ code ในข้อ 2 มารันบน polyglot notebook  โดยใส่ใน  code cell ด้านล่างนี้\n"
   ]
  },
  {
   "cell_type": "code",
   "execution_count": null,
   "metadata": {
    "dotnet_interactive": {
     "language": "csharp"
    },
    "polyglot_notebook": {
     "kernelName": "csharp"
    }
   },
   "outputs": [],
   "source": [
    "using System;\n",
    "\n",
    "class Program\n",
    "{\n",
    "    static void Main()\n",
    "    {\n",
    "        Person p = new Person();\n",
    "        p.Name = \"Rambo\";\n",
    "        p.Id = 1987;\n",
    "        p.Income = 2500;\n",
    "\n",
    "        Console.WriteLine($\"Type of p is {p.GetType()}\");\n",
    "        Console.WriteLine($\"p.Name = {p.Name}\\ttype = {p.Name.GetType()}\");\n",
    "        Console.WriteLine($\"p.Id = {p.Id}\\ttype = {p.Id.GetType()}\");\n",
    "        Console.WriteLine($\"p.Income = {p.Income}\\ttype = {p.Income.GetType()}\");\n",
    "    }\n",
    "}\n",
    "\n",
    "class Person\n",
    "{\n",
    "    public string Name { get; set; } = string.Empty;  // ป้องกัน null\n",
    "    public int Id { get; set; }                       // เปลี่ยนเป็น int\n",
    "    public int Income { get; set; }                  \n",
    "}\n"
   ]
  },
  {
   "cell_type": "markdown",
   "metadata": {},
   "source": [
    "8.1 ผลการรันเป็นอย่างไร\n",
    "\n"
   ]
  },
  {
   "cell_type": "markdown",
   "metadata": {},
   "source": [
    "*คำตอบ* ไม่สามารถรันได้ค่ะ"
   ]
  },
  {
   "cell_type": "markdown",
   "metadata": {},
   "source": []
  },
  {
   "cell_type": "markdown",
   "metadata": {},
   "source": [
    "8.2 เหมือนหรือค่างจาก console application อย่างไร"
   ]
  },
  {
   "cell_type": "markdown",
   "metadata": {},
   "source": [
    "*คำตอบ* มีความเเตกต่างในเรื่องของการ run ในconsole app สามารถทำได้เเละเเสดงผล เเต่ใน polygot ไม่สามารถ run ได้เนื่องจาก ไม่ได้ประกาศตัวเเปรให้เป็น public เเต่ประกาศเป็น protected เเทน"
   ]
  },
  {
   "cell_type": "markdown",
   "metadata": {},
   "source": []
  },
  {
   "cell_type": "markdown",
   "metadata": {},
   "source": [
    "## คำถาม"
   ]
  },
  {
   "cell_type": "markdown",
   "metadata": {},
   "source": [
    "1. Field ในภาษา C# คืออะไร\n"
   ]
  },
  {
   "cell_type": "markdown",
   "metadata": {},
   "source": [
    "*คำตอบ*\n",
    "Field คือ ตัวแปรที่ถูกประกาศภายในคลาส (class) หรือโครงสร้าง (struct) ในภาษา C# ซึ่งใช้สำหรับเก็บข้อมูลของอ็อบเจ็กต์ (object)"
   ]
  },
  {
   "cell_type": "markdown",
   "metadata": {},
   "source": []
  },
  {
   "cell_type": "markdown",
   "metadata": {},
   "source": [
    "2. Field มีหน้าที่อะไรใน class \n"
   ]
  },
  {
   "cell_type": "markdown",
   "metadata": {},
   "source": [
    "*คำตอบ* หน้าที่ของ Field ในคลาส:\n",
    "เก็บข้อมูลของอ็อบเจ็กต์:\n",
    "\n",
    "Field ใช้เพื่อเก็บข้อมูลหรือสถานะของอ็อบเจ็กต์ (instance) ที่ถูกสร้างขึ้นจากคลาสนั้นๆ ข้อมูลเหล่านี้อาจจะเป็นตัวเลข ข้อความ หรือข้อมูลประเภทต่างๆ\n",
    "เช่น หากมีคลาส Person, อาจจะมี Field สำหรับเก็บข้อมูลชื่อ (Name), อายุ (Age), และที่อยู่ (Address)\n",
    "ตัวแปรที่ใช้ภายในคลาส:\n",
    "\n",
    "Field สามารถใช้เป็นตัวแปรภายในคลาสที่ให้ฟังก์ชัน (Methods) ภายในคลาสนั้นๆ เข้าถึงและทำงานกับข้อมูลที่เก็บอยู่\n",
    "เช่น ถ้า Person มีฟิลด์ age ที่เก็บอายุของบุคคล, เมธอดในคลาสนั้นสามารถใช้เพื่อคำนวณหรือแสดงอายุของบุคคลได้\n",
    "การตั้งค่าผ่าน Constructor หรือ Method:\n",
    "\n",
    "Field สามารถตั้งค่าผ่าน Constructor (ตัวสร้าง) เมื่ออ็อบเจ็กต์ถูกสร้างขึ้น หรือจาก Method ภายในคลาส\n",
    "เช่นในคลาส Person, คุณอาจใช้ Constructor เพื่อกำหนดค่าของ Name และ Age เมื่อสร้างอ็อบเจ็กต์ใหม่\n",
    "การใช้ในการจัดการข้อมูล:\n",
    "\n",
    "Field สามารถเก็บค่าที่เป็นสถานะที่สำคัญของอ็อบเจ็กต์และทำให้คลาสสามารถดำเนินการได้ตามความต้องการ\n",
    "การเปลี่ยนแปลงค่าของ Field อาจมีผลต่อการทำงานของคลาสหรืออ็อบเจ็กต์นั้นๆ เช่น เปลี่ยนแปลงอายุของบุคคลในคลาส Person จะส่งผลต่อการแสดงข้อมูลหรือคำนวณที่เกี่ยวข้อง\n"
   ]
  },
  {
   "cell_type": "markdown",
   "metadata": {},
   "source": []
  },
  {
   "cell_type": "markdown",
   "metadata": {},
   "source": [
    "3. การประกาศ Field ทำได้อย่างไร ให้อธิบายรูปแบบการประกาศ field ในคลาส\n"
   ]
  },
  {
   "cell_type": "markdown",
   "metadata": {},
   "source": [
    "*คำตอบ*\n",
    "\n",
    "รูปแบบการประกาศ Field ในคลาส\n",
    "รูปแบบทั่วไปของการประกาศ Field ในคลาสประกอบด้วย 3 ส่วนหลัก ๆ ดังนี้:\n",
    "\n",
    "1.Access Modifier (ตัวกำหนดการเข้าถึง): เป็นการระบุว่า Field นั้นสามารถเข้าถึงได้จากส่วนใดของโปรแกรม มี 4 แบบหลัก ๆ คือ\n",
    "public: เข้าถึงได้จากทุกส่วนของโปรแกรม\n",
    "protected: เข้าถึงได้จากคลาสเดียวกัน คลาสที่สืบทอด และคลาสที่อยู่ในแพ็กเกจเดียวกัน\n",
    "private: เข้าถึงได้เฉพาะภายในคลาสเดียวกันเท่านั้น\n",
    "(ไม่มี Access Modifier): ถือว่าเป็น default หรือ package-private เข้าถึงได้จากคลาสที่อยู่ในแพ็กเกจเดียวกัน\n",
    "\n",
    "2.Data Type (ชนิดข้อมูล): เป็นการระบุชนิดของข้อมูลที่ Field นั้นสามารถเก็บได้ เช่น int, float, String, boolean หรือชนิดข้อมูลอื่น ๆ ที่ผู้ใช้กำหนดขึ้น\n",
    "\n",
    "3.Field Name (ชื่อ Field): เป็นชื่อที่ใช้เรียก Field นั้น ๆ ควรตั้งชื่อให้สื่อความหมายและสอดคล้องกับข้อมูลที่เก็บ"
   ]
  },
  {
   "cell_type": "markdown",
   "metadata": {},
   "source": []
  },
  {
   "cell_type": "markdown",
   "metadata": {},
   "source": [
    "4. Field และ Variable แตกต่างกันอย่างไร\n"
   ]
  },
  {
   "cell_type": "markdown",
   "metadata": {},
   "source": [
    "คำตอบ  \n",
    "\n",
    "Variable ใช้เก็บข้อมูลทั่วไปในโปรแกรม\n",
    "\n",
    "Field ใช้เก็บข้อมูลที่เป็นคุณสมบัติของ Object\n"
   ]
  },
  {
   "cell_type": "markdown",
   "metadata": {},
   "source": [
    "5. เมื่อไหร่ควรใช้ Field และเมื่อไหร่ควรใช้ Variable"
   ]
  },
  {
   "cell_type": "markdown",
   "metadata": {},
   "source": [
    "*คำตอบ*\n",
    "\n",
    "Field ควรใช้เมื่อข้อมูลเป็นส่วนหนึ่งของอ็อบเจ็กต์ และต้องการให้ข้อมูลคงอยู่ตลอดอายุของอ็อบเจ็กต์\n",
    "\n",
    "Variable ควรใช้เมื่อข้อมูลถูกใช้เฉพาะภายในเมธอดหรือบล็อกของโค้ด และไม่ต้องการให้คงอยู่ถาวร\n",
    "\n",
    "Field มักจะเป็น private และถูกเข้าถึงผ่าน Property เพื่อควบคุมข้อมูลให้ปลอดภัย\n",
    "\n",
    "Variable มักใช้ภายในเมธอดเพื่อคำนวณหรือจัดเก็บค่าชั่วคราว"
   ]
  },
  {
   "cell_type": "markdown",
   "metadata": {},
   "source": []
  },
  {
   "cell_type": "markdown",
   "metadata": {},
   "source": [
    "6. ในโปรแกรมการทดลองนี้ มี field หรือไม่ อยู่ในบรรทัดที่เท่าไหร่\n"
   ]
  },
  {
   "cell_type": "markdown",
   "metadata": {},
   "source": [
    "*คำตอบ*\n",
    "ในโปรแกรมนี้ มีการประกาศ Field 3 ตัว คือ:\n",
    "\n",
    "string name; ที่บรรทัดที่ 12\n",
    "\n",
    "string id; ที่บรรทัดที่ 13\n",
    "\n",
    "int income; ที่บรรทัดที่ 14"
   ]
  },
  {
   "cell_type": "markdown",
   "metadata": {},
   "source": []
  },
  {
   "cell_type": "markdown",
   "metadata": {},
   "source": [
    "7. ผลจากการรันโปรแกรมใน Console Application และใน polyglot notebook เหมือนหรือแตกต่างกันอย่างไร"
   ]
  },
  {
   "cell_type": "markdown",
   "metadata": {},
   "source": [
    "*คำตอบ*"
   ]
  },
  {
   "cell_type": "markdown",
   "metadata": {},
   "source": [
    "มีความเเตกต่างในเรื่องของการ run ในconsole app สามารถทำได้เเละเเสดงผล เเต่ใน polygot ไม่สามารถ run ได้เนื่องจาก ไม่ได้ประกาศตัวเเปรให้เป็น public เเต่ประกาศเป็น protected เเทน"
   ]
  }
 ],
 "metadata": {
  "kernelspec": {
   "display_name": ".NET (C#)",
   "language": "C#",
   "name": ".net-csharp"
  },
  "polyglot_notebook": {
   "kernelInfo": {
    "defaultKernelName": "csharp",
    "items": [
     {
      "aliases": [],
      "languageName": "csharp",
      "name": "csharp"
     }
    ]
   }
  }
 },
 "nbformat": 4,
 "nbformat_minor": 2
}
