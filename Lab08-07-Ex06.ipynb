{
 "cells": [
  {
   "cell_type": "markdown",
   "metadata": {
    "dotnet_interactive": {
     "language": "csharp"
    },
    "polyglot_notebook": {
     "kernelName": "csharp"
    }
   },
   "source": [
    "# Lab 8 Exercise 6\n",
    "\n",
    "## Method with parameter"
   ]
  },
  {
   "cell_type": "markdown",
   "metadata": {},
   "source": [
    "1. สร้าง console application project\n",
    "\n",
    "```\n",
    "    dotnet new console --name Lab08_Ex06\n",
    "```\n"
   ]
  },
  {
   "cell_type": "markdown",
   "metadata": {},
   "source": [
    "2. เปลี่ยน code ให้เป็นดังต่อไปนี้\n",
    "\n",
    "> ```csharp\n",
    "> 1. var mc = new MyClass();\n",
    "> 2. mc.DisplayParam(3, 4);\n",
    "> 3. class MyClass\n",
    "> 4. {\n",
    "> 5.     public void DisplayParam(int a, int b)\n",
    "> 6.     {\n",
    "> 7.         System.Console.WriteLine($\"a = {a}, b = {b}\");\n",
    "> 8.     } \n",
    "> 9. }\n",
    "> ```\n",
    "\n"
   ]
  },
  {
   "cell_type": "markdown",
   "metadata": {},
   "source": [
    "3. Build project โดยการใช้คำสั่ง\n",
    "\n",
    "```\n",
    "    dotnet build  Lab08_Ex06\n",
    "```"
   ]
  },
  {
   "cell_type": "markdown",
   "metadata": {},
   "source": [
    "4. บันทึกผลที่ได้จากการรันคำสั่งในข้อ 3\n",
    "\n"
   ]
  },
  {
   "attachments": {
    "image.png": {
     "image/png": "[encoded data removed]"
    }
   },
   "cell_type": "markdown",
   "metadata": {},
   "source": [
    "*คำตอบ* ![image.png](attachment:image.png)"
   ]
  },
  {
   "cell_type": "markdown",
   "metadata": {},
   "source": []
  },
  {
   "cell_type": "markdown",
   "metadata": {},
   "source": [
    "5. Run project โดยการใช้คำสั่ง\n",
    "\n",
    "```\n",
    "    dotnet run --project Lab08_Ex06\n",
    "```"
   ]
  },
  {
   "cell_type": "markdown",
   "metadata": {},
   "source": [
    "6. บันทึกผลที่ได้จากการรันคำสั่งในข้อ 5\n",
    "\n",
    "\n"
   ]
  },
  {
   "attachments": {
    "image.png": {
     "image/png": "[encoded data removed]"
    }
   },
   "cell_type": "markdown",
   "metadata": {},
   "source": [
    "*คำตอบ* ![image.png](attachment:image.png)"
   ]
  },
  {
   "cell_type": "markdown",
   "metadata": {},
   "source": []
  },
  {
   "cell_type": "markdown",
   "metadata": {},
   "source": [
    "7. อธิบายสิ่งที่พบในการทดลอง\n"
   ]
  },
  {
   "cell_type": "markdown",
   "metadata": {},
   "source": [
    "*คำตอบ* สามารถ build ได้  สามารถ run  เเสดงผลลัพธ์ได้"
   ]
  },
  {
   "cell_type": "markdown",
   "metadata": {},
   "source": []
  },
  {
   "cell_type": "markdown",
   "metadata": {},
   "source": [
    "8. นำ code ในข้อ 2 มารันบน polyglot notebook  โดยใส่ใน  code cell ด้านล่างนี้\n"
   ]
  },
  {
   "cell_type": "code",
   "execution_count": null,
   "metadata": {},
   "outputs": [
    {
     "name": "stdout",
     "output_type": "stream",
     "text": [
      "a = 3, b = 4\r\n"
     ]
    }
   ],
   "source": [
    "var mc = new MyClass();\n",
    " mc.DisplayParam(3, 4);\n",
    " class MyClass\n",
    " {\n",
    "     public void DisplayParam(int a, int b)\n",
    "     {\n",
    "         System.Console.WriteLine($\"a = {a}, b = {b}\");\n",
    "     } \n",
    " }"
   ]
  },
  {
   "cell_type": "markdown",
   "metadata": {},
   "source": [
    "8.1 ผลการรันเป็นอย่างไร\n",
    "\n"
   ]
  },
  {
   "cell_type": "markdown",
   "metadata": {},
   "source": [
    " *คำตอบ*   a = 3, b = 4"
   ]
  },
  {
   "cell_type": "markdown",
   "metadata": {},
   "source": []
  },
  {
   "cell_type": "markdown",
   "metadata": {},
   "source": [
    "8.2 เหมือนหรือต่างจาก console application อย่างไร"
   ]
  },
  {
   "cell_type": "markdown",
   "metadata": {},
   "source": [
    " *คำตอบ* เเสดงผลลัพธ์เหมือนกัน"
   ]
  },
  {
   "cell_type": "markdown",
   "metadata": {},
   "source": []
  },
  {
   "cell_type": "markdown",
   "metadata": {},
   "source": [
    "## คำถาม"
   ]
  },
  {
   "cell_type": "markdown",
   "metadata": {},
   "source": [
    "1. Method with parameter คืออะไร\n"
   ]
  },
  {
   "cell_type": "markdown",
   "metadata": {},
   "source": [
    "*คำตอบ*\n",
    "Method with parameter คือ เมธอด (Method) ที่รับค่าจากภายนอกผ่าน พารามิเตอร์ (parameter) โดยพารามิเตอร์จะเป็นตัวแปรที่ถูกกำหนดไว้ใน วงเล็บ () ของเมธอด ซึ่งจะใช้รับค่าจากผู้เรียกเมธอดและนำไปใช้งานภายในเมธอดนั้น ๆ"
   ]
  },
  {
   "cell_type": "markdown",
   "metadata": {},
   "source": []
  },
  {
   "cell_type": "markdown",
   "metadata": {},
   "source": [
    "2. ทำไมเราต้องใช้ parameter ใน method\n"
   ]
  },
  {
   "cell_type": "markdown",
   "metadata": {},
   "source": [
    "*คำตอบ*\n",
    "เหตุผลที่ควรใช้ Parameter ใน Method\n",
    "\n",
    "ยืดหยุ่น: เมธอดสามารถรับค่าต่างๆ ไปใช้งานได้\n",
    "\n",
    "การใช้งานซ้ำ: เมธอดเดียวสามารถทำงานหลายกรณี\n",
    "\n",
    "ปรับแต่งพฤติกรรม: เมธอดสามารถปรับแต่งการทำงานตามค่าที่รับมา\n",
    "\n",
    "ลดการซ้ำซ้อน: ไม่ต้องเขียนโค้ดซ้ำหลายๆ ครั้ง\n",
    "\n",
    "ทำให้โค้ดอ่านง่ายขึ้น: เข้าใจการทำงานของเมธอดได้ชัดเจนจากค่าที่ส่งไป"
   ]
  },
  {
   "cell_type": "markdown",
   "metadata": {},
   "source": []
  },
  {
   "cell_type": "markdown",
   "metadata": {},
   "source": [
    "3. parameter และ argument แตกต่างกันอย่างไร\n"
   ]
  },
  {
   "cell_type": "markdown",
   "metadata": {},
   "source": [
    "*คำตอบ*\n",
    "Parameter: คือ ตัวแปร ที่ประกาศในเมธอดและรับค่าจากภายนอก\n",
    "\n",
    "Argument: คือ ค่าจริง ที่ถูกส่งไปให้พารามิเตอร์เมื่อเรียกเมธอด"
   ]
  },
  {
   "cell_type": "markdown",
   "metadata": {},
   "source": []
  },
  {
   "cell_type": "markdown",
   "metadata": {},
   "source": [
    "4. ส่วนประกอบของ method ที่มี parameter มีอะไรบ้าง\n"
   ]
  },
  {
   "cell_type": "markdown",
   "metadata": {},
   "source": [
    "*คำตอบ*\n",
    "ส่วนประกอบหลักๆ ของ method with parameter ได้แก่:\n",
    "\n",
    "1. Access Modifier (ตัวแก้ไขการเข้าถึง)\n",
    "ใช้ในการกำหนดว่าเมธอดสามารถเข้าถึงได้จากที่ไหน เช่น public, private, protected, หรือ internal\n",
    "ตัวอย่าง: public, private\n",
    "\n",
    "2. Return Type (ประเภทข้อมูลที่ส่งกลับ)\n",
    "กำหนดประเภทของค่าที่เมธอดจะส่งกลับหลังจากทำการประมวลผลเสร็จ เช่น int, void, string, หรือ bool\n",
    "void หมายความว่าเมธอดจะไม่มีการส่งค่ากลับ\n",
    "ตัวอย่าง: int, string, void\n",
    "\n",
    "3. Method Name (ชื่อของเมธอด)\n",
    "ชื่อที่ใช้ในการเรียกเมธอดจากที่อื่นในโปรแกรม ต้องไม่ซ้ำกับชื่อของเมธอดอื่นในคลาสเดียวกัน\n",
    "ตัวอย่าง: AddNumbers, Greet, PrintMessage\n",
    "\n",
    "4. Parameters (พารามิเตอร์)\n",
    "พารามิเตอร์คือตัวแปรที่อยู่ในวงเล็บของเมธอด ซึ่งใช้เพื่อรับข้อมูลจากภายนอก เมธอดหนึ่งอาจจะมีพารามิเตอร์หลายตัว หรือไม่มีเลยก็ได้\n",
    "พารามิเตอร์จะมีประเภทข้อมูลและชื่อ\n",
    "พารามิเตอร์ใช้เพื่อรับค่า (Arguments) ที่ส่งจากการเรียกเมธอด\n",
    "ตัวอย่าง: string name, int age, double price\n",
    "\n",
    "5. Method Body (ตัวเนื้อหาของเมธอด)\n",
    "ส่วนที่อยู่ภายในวงเล็บปีกกา {} ซึ่งจะมีคำสั่งที่เมธอดจะทำงาน เช่น การคำนวณ การพิมพ์ข้อความ หรือการประมวลผลข้อมูลที่ได้รับจากพารามิเตอร์\n",
    "ตัวอย่าง: Console.WriteLine(name);"
   ]
  },
  {
   "cell_type": "markdown",
   "metadata": {},
   "source": []
  },
  {
   "cell_type": "markdown",
   "metadata": {},
   "source": [
    "5. เมื่อไหร่ควรใช้ method ที่มี parameter"
   ]
  },
  {
   "cell_type": "markdown",
   "metadata": {},
   "source": [
    "*คำตอบ*\n",
    "เมื่อไหร่ควรใช้ Method ที่มี Parameter:\n",
    "\n",
    "เมื่อต้องการให้เมธอดทำงานกับข้อมูลที่หลากหลาย: เช่น คำนวณ, แสดงผล, หรือปรับแต่งการทำงานโดยส่งค่าต่างๆ เข้าไป\n",
    "\n",
    "เมื่อต้องการให้โค้ดยืดหยุ่นและสามารถนำกลับมาใช้ใหม่: โดยไม่ต้องเขียนเมธอดหลายๆ ตัว\n",
    "\n",
    "เมื่อต้องการให้เมธอดรับค่าจากภายนอก เช่น รับค่าจากผู้ใช้, ตัวแปรภายนอก, หรือฐานข้อมูล\n",
    "\n",
    "เมื่อต้องการปรับพฤติกรรมของเมธอดตามค่าที่รับมา: เช่น จำนวนครั้งที่ทำงาน หรือประเภทของการคำนวณ"
   ]
  },
  {
   "cell_type": "markdown",
   "metadata": {},
   "source": []
  },
  {
   "cell_type": "markdown",
   "metadata": {},
   "source": [
    "6. ถ้าแก้ไขโค้ดในบรรทัดที่ 2 เป็นดังต่อไปนี้  จะได้ผลการ build หรือ run เป็นอย่างไร ให้แสดง output ที่โปรแกรมแสดงออกมา\n",
    "```csharp\n",
    "    mc.DisplayParam(3.5, 4.2);\n",
    "```\n"
   ]
  },
  {
   "cell_type": "code",
   "execution_count": null,
   "metadata": {},
   "outputs": [
    {
     "name": "stdout",
     "output_type": "stream",
     "text": [
      "a = 3.5, b = 4.2\r\n"
     ]
    }
   ],
   "source": [
    "var mc = new MyClass();\n",
    " mc.DisplayParam((double)3.5,(double) 4.2);\n",
    " class MyClass\n",
    " {\n",
    "     public void DisplayParam(double a, double b)\n",
    "     {\n",
    "         System.Console.WriteLine($\"a = {a}, b = {b}\");\n",
    "     } \n",
    " }"
   ]
  },
  {
   "cell_type": "markdown",
   "metadata": {},
   "source": [
    "*คำตอบ* a = 3.5, b = 4.2"
   ]
  },
  {
   "cell_type": "markdown",
   "metadata": {},
   "source": []
  },
  {
   "cell_type": "markdown",
   "metadata": {},
   "source": [
    "7. ถ้าแก้ไขโค้ดในบรรทัดที่ 2 เป็นดังต่อไปนี้  จะได้ผลการ build หรือ run เป็นอย่างไร ให้แสดง output ที่โปรแกรมแสดงออกมา\n",
    "```csharp\n",
    "    mc.DisplayParam(\"Hello\", \"World\");\n",
    "```"
   ]
  },
  {
   "cell_type": "code",
   "execution_count": null,
   "metadata": {},
   "outputs": [
    {
     "name": "stdout",
     "output_type": "stream",
     "text": [
      "a = Hello, b = World\r\n"
     ]
    }
   ],
   "source": [
    "var mc = new MyClass();\n",
    " mc.DisplayParam(\"Hello\", \"World\");\n",
    " class MyClass\n",
    " {\n",
    "     public void DisplayParam(string a, string b)\n",
    "     {\n",
    "         System.Console.WriteLine($\"a = {a}, b = {b}\");\n",
    "     } \n",
    " }"
   ]
  },
  {
   "cell_type": "markdown",
   "metadata": {},
   "source": [
    "*คำตอบ* a = Hello, b = World"
   ]
  },
  {
   "cell_type": "markdown",
   "metadata": {},
   "source": []
  },
  {
   "cell_type": "markdown",
   "metadata": {},
   "source": [
    "8. จงเขียน method ที่ตรวจสอบว่าตัวเลขที่รับเข้ามาเป็นจำนวนคู่หรือจำนวนคี่ และแสดงผลลัพธ์ทางหน้าจอ"
   ]
  },
  {
   "cell_type": "code",
   "execution_count": null,
   "metadata": {
    "dotnet_interactive": {
     "language": "csharp"
    },
    "polyglot_notebook": {
     "kernelName": "csharp"
    }
   },
   "outputs": [
    {
     "name": "stdout",
     "output_type": "stream",
     "text": [
      "10 is even\r\n"
     ]
    }
   ],
   "source": [
    "\n",
    "var mc = new MyClass();\n",
    " mc.DisplayParam(\"even\", \"odd\");\n",
    " class MyClass\n",
    " {\n",
    "    public void DisplayParam(string even, string odd)\n",
    "    {\n",
    "        int num = 10;\n",
    "        if (num % 2 == 0)\n",
    "        {\n",
    "            System.Console.WriteLine($\"{num} is even\");\n",
    "        }\n",
    "        else\n",
    "        {\n",
    "            System.Console.WriteLine($\"{num} is odd\");\n",
    "        }\n",
    "    }\n",
    " }"
   ]
  },
  {
   "cell_type": "markdown",
   "metadata": {},
   "source": [
    "*คำตอบ* สามารถทำได้ เมื่อป้อนค่า 10 ผลลัพธ์ เเสดงเป็นเลขคู่"
   ]
  },
  {
   "cell_type": "markdown",
   "metadata": {},
   "source": []
  }
 ],
 "metadata": {
  "kernelspec": {
   "display_name": ".NET (C#)",
   "language": "C#",
   "name": ".net-csharp"
  },
  "polyglot_notebook": {
   "kernelInfo": {
    "defaultKernelName": "csharp",
    "items": [
     {
      "aliases": [],
      "languageName": "csharp",
      "name": "csharp"
     }
    ]
   }
  }
 },
 "nbformat": 4,
 "nbformat_minor": 2
}
