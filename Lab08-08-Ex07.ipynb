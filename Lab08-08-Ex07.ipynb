{
 "cells": [
  {
   "cell_type": "markdown",
   "metadata": {
    "dotnet_interactive": {
     "language": "csharp"
    },
    "polyglot_notebook": {
     "kernelName": "csharp"
    }
   },
   "source": [
    "# Lab 8 Exercise 7\n",
    "\n",
    "## Method with parameter and return value"
   ]
  },
  {
   "cell_type": "markdown",
   "metadata": {},
   "source": [
    "1. สร้าง console application project\n",
    "\n",
    "```\n",
    "    dotnet new console --name Lab08_Ex07\n",
    "```"
   ]
  },
  {
   "cell_type": "markdown",
   "metadata": {},
   "source": [
    "2. เปลี่ยน code ให้เป็นดังต่อไปนี้\n",
    "\n",
    "> ```csharp\n",
    ">  1. var adder = new MyProgram();\n",
    ">  2. int x = 2, y = 3;\n",
    ">  3. int add_result = adder.add(x, y);\n",
    ">  4. System.Console.WriteLine($\"{x} + {y} = {add_result}\");\n",
    ">  5. \n",
    ">  6. int i = 2, j = 3;\n",
    ">  7. int multiply_result = adder.multiply(i, j);\n",
    ">  8. System.Console.WriteLine($\"{i} x {j} = {multiply_result}\");\n",
    ">  9. \n",
    "> 10. class MyProgram\n",
    "> 11. {\n",
    "> 12.     public int add(int a, int b)\n",
    "> 13.     {\n",
    "> 14.         return a + b;\n",
    "> 15.     }\n",
    "> 16.     public int multiply(int a, int b)\n",
    "> 17.     {\n",
    "> 18.         return a * b;\n",
    "> 19.     }\n",
    "> 20. }\n",
    "> ```\n",
    "\n"
   ]
  },
  {
   "cell_type": "markdown",
   "metadata": {},
   "source": [
    "3. Build project โดยการใช้คำสั่ง\n",
    "\n",
    "```\n",
    "    dotnet build  Lab08_Ex07\n",
    "```"
   ]
  },
  {
   "cell_type": "markdown",
   "metadata": {},
   "source": [
    "4. บันทึกผลที่ได้จากการรันคำสั่งในข้อ 3\n",
    "\n"
   ]
  },
  {
   "attachments": {
    "image.png": {
     "image/png": "[encoded data removed]"
    }
   },
   "cell_type": "markdown",
   "metadata": {},
   "source": [
    "*คำตอบ*![image.png](attachment:image.png)"
   ]
  },
  {
   "cell_type": "markdown",
   "metadata": {},
   "source": []
  },
  {
   "cell_type": "markdown",
   "metadata": {},
   "source": [
    "5. Run project โดยการใช้คำสั่ง\n",
    "\n",
    "```\n",
    "    dotnet run --project Lab08_Ex07\n",
    "```"
   ]
  },
  {
   "cell_type": "markdown",
   "metadata": {},
   "source": [
    "6. บันทึกผลที่ได้จากการรันคำสั่งในข้อ 5\n",
    "\n",
    "\n",
    "\n"
   ]
  },
  {
   "attachments": {
    "image.png": {
     "image/png": "[encoded data removed]"
    }
   },
   "cell_type": "markdown",
   "metadata": {},
   "source": [
    "*คำตอบ*![image.png](attachment:image.png)"
   ]
  },
  {
   "cell_type": "markdown",
   "metadata": {},
   "source": []
  },
  {
   "cell_type": "markdown",
   "metadata": {},
   "source": [
    "7. อธิบายสิ่งที่พบในการทดลอง\n",
    "\n"
   ]
  },
  {
   "cell_type": "markdown",
   "metadata": {},
   "source": [
    "*คำตอบ* สามารถ build ได้  สามารถ run  เเสดงผลลัพธ์ได้"
   ]
  },
  {
   "cell_type": "markdown",
   "metadata": {},
   "source": []
  },
  {
   "cell_type": "markdown",
   "metadata": {},
   "source": [
    "8. นำ code ในข้อ 2 มารันบน polyglot notebook  โดยใส่ใน  code cell ด้านล่างนี้\n"
   ]
  },
  {
   "cell_type": "code",
   "execution_count": null,
   "metadata": {
    "dotnet_interactive": {
     "language": "csharp"
    },
    "polyglot_notebook": {
     "kernelName": "csharp"
    }
   },
   "outputs": [
    {
     "name": "stdout",
     "output_type": "stream",
     "text": [
      "2 + 3 = 5\n",
      "2 x 3 = 6\n"
     ]
    }
   ],
   "source": [
    "var adder = new MyProgram();\n",
    " int x = 2, y = 3;\n",
    " int add_result = adder.add(x, y);\n",
    " System.Console.WriteLine($\"{x} + {y} = {add_result}\");\n",
    " \n",
    " int i = 2, j = 3;\n",
    " int multiply_result = adder.multiply(i, j);\n",
    " System.Console.WriteLine($\"{i} x {j} = {multiply_result}\");\n",
    " \n",
    " class MyProgram\n",
    " {\n",
    "     public int add(int a, int b)\n",
    "     {\n",
    "         return a + b;\n",
    "     }\n",
    "     public int multiply(int a, int b)\n",
    "     {\n",
    "         return a * b;\n",
    "     }\n",
    " }"
   ]
  },
  {
   "cell_type": "markdown",
   "metadata": {},
   "source": [
    "8.1 ผลการรันเป็นอย่างไร\n",
    "\n"
   ]
  },
  {
   "cell_type": "markdown",
   "metadata": {},
   "source": [
    "*คำตอบ*\n",
    "2 + 3 = 5\n",
    "\n",
    "2 x 3 = 6\n"
   ]
  },
  {
   "cell_type": "markdown",
   "metadata": {},
   "source": []
  },
  {
   "cell_type": "markdown",
   "metadata": {},
   "source": [
    "8.2 เหมือนหรือต่างจาก console application อย่างไร"
   ]
  },
  {
   "cell_type": "markdown",
   "metadata": {},
   "source": [
    "*คำตอบ*เเสดงผลลัพธ์เหมือนกัน"
   ]
  },
  {
   "cell_type": "markdown",
   "metadata": {},
   "source": []
  },
  {
   "cell_type": "markdown",
   "metadata": {},
   "source": [
    "## คำถาม"
   ]
  },
  {
   "cell_type": "markdown",
   "metadata": {},
   "source": [
    "1. ให้เขียน method ที่รับ parameter เป็น string และส่งกลับค่าความยาวของ string นั้น"
   ]
  },
  {
   "cell_type": "code",
   "execution_count": null,
   "metadata": {
    "dotnet_interactive": {
     "language": "csharp"
    },
    "polyglot_notebook": {
     "kernelName": "csharp"
    }
   },
   "outputs": [
    {
     "name": "stdout",
     "output_type": "stream",
     "text": [
      "The length of the string \"Hello, World!\" is: 13\r\n"
     ]
    }
   ],
   "source": [
    "\n",
    "        // สร้างอ็อบเจ็กต์จากคลาส MyProgram\n",
    "        var adder = new MyProgram();\n",
    "\n",
    "        // กำหนดค่า string ที่ต้องการตรวจสอบความยาว\n",
    "        string input = \"Hello, World!\";\n",
    "\n",
    "        // เรียกใช้งานเมธอดที่รับ string และส่งกลับความยาว\n",
    "        int length = adder.GetStringLength(input);\n",
    "\n",
    "        // แสดงผลความยาวของ string\n",
    "        System.Console.WriteLine($\"The length of the string \\\"{input}\\\" is: {length}\");\n",
    "    \n",
    "\n",
    "class MyProgram\n",
    "{\n",
    "    // เมธอดที่รับ string และส่งกลับความยาวของ string\n",
    "    public int GetStringLength(string str)\n",
    "    {\n",
    "        return str.Length;  // ใช้ property Length ของ string เพื่อหาความยาว\n",
    "    }\n",
    "}\n"
   ]
  },
  {
   "cell_type": "markdown",
   "metadata": {},
   "source": [
    "*คำตอบ* สามารถเเสดงผลลัพธ์ได้"
   ]
  },
  {
   "cell_type": "markdown",
   "metadata": {},
   "source": []
  },
  {
   "cell_type": "markdown",
   "metadata": {},
   "source": [
    "2. ให้สร้างโปรแกรมสูตรคูณ โดยประยุกต์ใช้เมธอด  `public int multiply(int a, int b)`\n"
   ]
  },
  {
   "cell_type": "code",
   "execution_count": null,
   "metadata": {
    "dotnet_interactive": {
     "language": "csharp"
    },
    "polyglot_notebook": {
     "kernelName": "csharp"
    }
   },
   "outputs": [
    {
     "name": "stdout",
     "output_type": "stream",
     "text": [
      "2 x 1 = 2\n",
      "2 x 2 = 4\n",
      "2 x 3 = 6\n",
      "2 x 4 = 8\n",
      "2 x 5 = 10\n",
      "2 x 6 = 12\n",
      "2 x 7 = 14\n",
      "2 x 8 = 16\n",
      "2 x 9 = 18\n",
      "2 x 10 = 20\n",
      "2 x 11 = 22\n",
      "2 x 12 = 24\n"
     ]
    }
   ],
   "source": [
    "\n",
    "    {\n",
    "        // สร้างอ็อบเจ็กต์จากคลาส MyProgram\n",
    "        var calculator = new MyProgram();\n",
    "\n",
    "        // กำหนดตัวเลขที่ต้องการให้คูณ (เช่น ตารางสูตรคูณ 2)\n",
    "        int number = 2;\n",
    "\n",
    "        // แสดงผลตารางสูตรคูณจาก 1 ถึง 12\n",
    "        for (int i = 1; i <= 12; i++)\n",
    "        {\n",
    "            int result = calculator.Multiply(number, i); // เรียกเมธอด multiply\n",
    "            Console.WriteLine($\"{number} x {i} = {result}\");\n",
    "        }\n",
    "    }\n",
    "\n",
    "\n",
    "class MyProgram\n",
    "{\n",
    "    // เมธอดที่คูณตัวเลข 2 ตัวและส่งกลับผลลัพธ์\n",
    "    public int Multiply(int a, int b)\n",
    "    {\n",
    "        return a * b;  // คำนวณผลคูณ\n",
    "    }\n",
    "}\n"
   ]
  },
  {
   "cell_type": "markdown",
   "metadata": {},
   "source": [
    "*คำตอบ* สามารถเเสดงผลลัพธ์ออกมาได้"
   ]
  },
  {
   "cell_type": "markdown",
   "metadata": {},
   "source": []
  },
  {
   "cell_type": "markdown",
   "metadata": {},
   "source": [
    "3. จากโปรแกรมในคำถามข้อที่ 2 ให้สร้างเป็นสูตรคูณ แม่ 2 - 12"
   ]
  },
  {
   "cell_type": "code",
   "execution_count": null,
   "metadata": {
    "dotnet_interactive": {
     "language": "csharp"
    },
    "polyglot_notebook": {
     "kernelName": "csharp"
    }
   },
   "outputs": [
    {
     "name": "stdout",
     "output_type": "stream",
     "text": [
      "Multiplication table of 2:\n",
      "2 x 1 = 2\n",
      "2 x 2 = 4\n",
      "2 x 3 = 6\n",
      "2 x 4 = 8\n",
      "2 x 5 = 10\n",
      "2 x 6 = 12\n",
      "2 x 7 = 14\n",
      "2 x 8 = 16\n",
      "2 x 9 = 18\n",
      "2 x 10 = 20\n",
      "\n",
      "Multiplication table of 3:\n",
      "3 x 1 = 3\n",
      "3 x 2 = 6\n",
      "3 x 3 = 9\n",
      "3 x 4 = 12\n",
      "3 x 5 = 15\n",
      "3 x 6 = 18\n",
      "3 x 7 = 21\n",
      "3 x 8 = 24\n",
      "3 x 9 = 27\n",
      "3 x 10 = 30\n",
      "\n",
      "Multiplication table of 4:\n",
      "4 x 1 = 4\n",
      "4 x 2 = 8\n",
      "4 x 3 = 12\n",
      "4 x 4 = 16\n",
      "4 x 5 = 20\n",
      "4 x 6 = 24\n",
      "4 x 7 = 28\n",
      "4 x 8 = 32\n",
      "4 x 9 = 36\n",
      "4 x 10 = 40\n",
      "\n",
      "Multiplication table of 5:\n",
      "5 x 1 = 5\n",
      "5 x 2 = 10\n",
      "5 x 3 = 15\n",
      "5 x 4 = 20\n",
      "5 x 5 = 25\n",
      "5 x 6 = 30\n",
      "5 x 7 = 35\n",
      "5 x 8 = 40\n",
      "5 x 9 = 45\n",
      "5 x 10 = 50\n",
      "\n",
      "Multiplication table of 6:\n",
      "6 x 1 = 6\n",
      "6 x 2 = 12\n",
      "6 x 3 = 18\n",
      "6 x 4 = 24\n",
      "6 x 5 = 30\n",
      "6 x 6 = 36\n",
      "6 x 7 = 42\n",
      "6 x 8 = 48\n",
      "6 x 9 = 54\n",
      "6 x 10 = 60\n",
      "\n",
      "Multiplication table of 7:\n",
      "7 x 1 = 7\n",
      "7 x 2 = 14\n",
      "7 x 3 = 21\n",
      "7 x 4 = 28\n",
      "7 x 5 = 35\n",
      "7 x 6 = 42\n",
      "7 x 7 = 49\n",
      "7 x 8 = 56\n",
      "7 x 9 = 63\n",
      "7 x 10 = 70\n",
      "\n",
      "Multiplication table of 8:\n",
      "8 x 1 = 8\n",
      "8 x 2 = 16\n",
      "8 x 3 = 24\n",
      "8 x 4 = 32\n",
      "8 x 5 = 40\n",
      "8 x 6 = 48\n",
      "8 x 7 = 56\n",
      "8 x 8 = 64\n",
      "8 x 9 = 72\n",
      "8 x 10 = 80\n",
      "\n",
      "Multiplication table of 9:\n",
      "9 x 1 = 9\n",
      "9 x 2 = 18\n",
      "9 x 3 = 27\n",
      "9 x 4 = 36\n",
      "9 x 5 = 45\n",
      "9 x 6 = 54\n",
      "9 x 7 = 63\n",
      "9 x 8 = 72\n",
      "9 x 9 = 81\n",
      "9 x 10 = 90\n",
      "\n",
      "Multiplication table of 10:\n",
      "10 x 1 = 10\n",
      "10 x 2 = 20\n",
      "10 x 3 = 30\n",
      "10 x 4 = 40\n",
      "10 x 5 = 50\n",
      "10 x 6 = 60\n",
      "10 x 7 = 70\n",
      "10 x 8 = 80\n",
      "10 x 9 = 90\n",
      "10 x 10 = 100\n",
      "\n",
      "Multiplication table of 11:\n",
      "11 x 1 = 11\n",
      "11 x 2 = 22\n",
      "11 x 3 = 33\n",
      "11 x 4 = 44\n",
      "11 x 5 = 55\n",
      "11 x 6 = 66\n",
      "11 x 7 = 77\n",
      "11 x 8 = 88\n",
      "11 x 9 = 99\n",
      "11 x 10 = 110\n",
      "\n",
      "Multiplication table of 12:\n",
      "12 x 1 = 12\n",
      "12 x 2 = 24\n",
      "12 x 3 = 36\n",
      "12 x 4 = 48\n",
      "12 x 5 = 60\n",
      "12 x 6 = 72\n",
      "12 x 7 = 84\n",
      "12 x 8 = 96\n",
      "12 x 9 = 108\n",
      "12 x 10 = 120\n",
      "\n"
     ]
    },
    {
     "data": {
      "text/html": [
       "<div class=\"dni-plaintext\"><pre>&lt;null&gt;</pre></div><style>\r\n",
       ".dni-code-hint {\r\n",
       "    font-style: italic;\r\n",
       "    overflow: hidden;\r\n",
       "    white-space: nowrap;\r\n",
       "}\r\n",
       ".dni-treeview {\r\n",
       "    white-space: nowrap;\r\n",
       "}\r\n",
       ".dni-treeview td {\r\n",
       "    vertical-align: top;\r\n",
       "    text-align: start;\r\n",
       "}\r\n",
       "details.dni-treeview {\r\n",
       "    padding-left: 1em;\r\n",
       "}\r\n",
       "table td {\r\n",
       "    text-align: start;\r\n",
       "}\r\n",
       "table tr { \r\n",
       "    vertical-align: top; \r\n",
       "    margin: 0em 0px;\r\n",
       "}\r\n",
       "table tr td pre \r\n",
       "{ \r\n",
       "    vertical-align: top !important; \r\n",
       "    margin: 0em 0px !important;\r\n",
       "} \r\n",
       "table th {\r\n",
       "    text-align: start;\r\n",
       "}\r\n",
       "</style>"
      ]
     },
     "metadata": {},
     "output_type": "display_data"
    }
   ],
   "source": [
    "// แสดงผลตารางสูตรคูณแม่ 2 ถึงแม่ 12\n",
    "        for (int number = 2; number <= 12; number++)  // ลูปสำหรับแต่ละแม่ (2 - 12)\n",
    "        {\n",
    "            Console.WriteLine($\"Multiplication table of {number}:\");\n",
    "\n",
    "            // ใช้ลูปภายในเพื่อคำนวณผลคูณจาก 1 ถึง 10\n",
    "            for (int i = 1; i <= 10; i++)\n",
    "            {\n",
    "                // เรียกเมธอด Multiply เพื่อคำนวณผลคูณ\n",
    "                int result = Multiply(number, i);\n",
    "                // แสดงผลลัพธ์ในรูปแบบสูตรคูณ\n",
    "                Console.WriteLine($\"{number} x {i} = {result}\");\n",
    "            }\n",
    "\n",
    "            // เพิ่มบรรทัดว่างระหว่างแม่แต่ละตัว\n",
    "            Console.WriteLine();\n",
    "        \n",
    "\n",
    "    // เมธอด Multiply รับพารามิเตอร์เป็นตัวเลข 2 ตัวแล้วส่งผลลัพธ์ของการคูณ\n",
    "    static int Multiply(int a, int b)\n",
    "    {\n",
    "        return a * b;  // คูณ a กับ b แล้วคืนค่าผลลัพธ์\n",
    "    }\n",
    "}\n",
    "\n"
   ]
  },
  {
   "cell_type": "markdown",
   "metadata": {},
   "source": [
    "*คำตอบ* สามารถเเสดงผลลัพธ์ได้"
   ]
  },
  {
   "cell_type": "markdown",
   "metadata": {},
   "source": []
  }
 ],
 "metadata": {
  "kernelspec": {
   "display_name": ".NET (C#)",
   "language": "C#",
   "name": ".net-csharp"
  },
  "polyglot_notebook": {
   "kernelInfo": {
    "defaultKernelName": "csharp",
    "items": [
     {
      "aliases": [],
      "languageName": "csharp",
      "name": "csharp"
     }
    ]
   }
  }
 },
 "nbformat": 4,
 "nbformat_minor": 2
}
